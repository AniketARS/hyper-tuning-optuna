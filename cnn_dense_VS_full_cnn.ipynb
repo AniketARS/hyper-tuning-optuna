{
  "nbformat": 4,
  "nbformat_minor": 0,
  "metadata": {
    "colab": {
      "name": "cnn_dense_VS_full_cnn.ipynb",
      "provenance": [],
      "collapsed_sections": []
    },
    "kernelspec": {
      "name": "python3",
      "display_name": "Python 3"
    },
    "accelerator": "GPU"
  },
  "cells": [
    {
      "cell_type": "code",
      "metadata": {
        "id": "Quv3RBrJ7e_f"
      },
      "source": [
        "import tensorflow as tf\n",
        "import tensorflow.keras as keras\n",
        "from tensorflow.keras.models import Sequential\n",
        "from tensorflow.keras.layers import Conv2D, Dense, Flatten, Activation, BatchNormalization, MaxPool2D, Dropout, AveragePooling2D\n",
        "from keras.datasets import mnist\n",
        "from model import cnn_with_dense, full_cnn"
      ],
      "execution_count": 19,
      "outputs": []
    },
    {
      "cell_type": "code",
      "metadata": {
        "id": "ayeZUoGg7kdz"
      },
      "source": [
        "model = cnn_with_dense()"
      ],
      "execution_count": 20,
      "outputs": []
    },
    {
      "cell_type": "code",
      "metadata": {
        "colab": {
          "base_uri": "https://localhost:8080/"
        },
        "id": "PRom3_fl8wdU",
        "outputId": "96561ef8-8a0d-4ae2-9997-88d9b284baab"
      },
      "source": [
        "model.summary()"
      ],
      "execution_count": 21,
      "outputs": [
        {
          "output_type": "stream",
          "text": [
            "Model: \"sequential_4\"\n",
            "_________________________________________________________________\n",
            "Layer (type)                 Output Shape              Param #   \n",
            "=================================================================\n",
            "conv2d_14 (Conv2D)           (None, 28, 28, 44)        396       \n",
            "_________________________________________________________________\n",
            "batch_normalization_14 (Batc (None, 28, 28, 44)        176       \n",
            "_________________________________________________________________\n",
            "activation_18 (Activation)   (None, 28, 28, 44)        0         \n",
            "_________________________________________________________________\n",
            "max_pooling2d_10 (MaxPooling (None, 14, 14, 44)        0         \n",
            "_________________________________________________________________\n",
            "dropout_14 (Dropout)         (None, 14, 14, 44)        0         \n",
            "_________________________________________________________________\n",
            "conv2d_15 (Conv2D)           (None, 14, 14, 56)        22176     \n",
            "_________________________________________________________________\n",
            "batch_normalization_15 (Batc (None, 14, 14, 56)        224       \n",
            "_________________________________________________________________\n",
            "activation_19 (Activation)   (None, 14, 14, 56)        0         \n",
            "_________________________________________________________________\n",
            "max_pooling2d_11 (MaxPooling (None, 7, 7, 56)          0         \n",
            "_________________________________________________________________\n",
            "dropout_15 (Dropout)         (None, 7, 7, 56)          0         \n",
            "_________________________________________________________________\n",
            "flatten_4 (Flatten)          (None, 2744)              0         \n",
            "_________________________________________________________________\n",
            "dense_6 (Dense)              (None, 212)               581728    \n",
            "_________________________________________________________________\n",
            "batch_normalization_16 (Batc (None, 212)               848       \n",
            "_________________________________________________________________\n",
            "activation_20 (Activation)   (None, 212)               0         \n",
            "_________________________________________________________________\n",
            "dropout_16 (Dropout)         (None, 212)               0         \n",
            "_________________________________________________________________\n",
            "dense_7 (Dense)              (None, 78)                16536     \n",
            "_________________________________________________________________\n",
            "batch_normalization_17 (Batc (None, 78)                312       \n",
            "_________________________________________________________________\n",
            "activation_21 (Activation)   (None, 78)                0         \n",
            "_________________________________________________________________\n",
            "dropout_17 (Dropout)         (None, 78)                0         \n",
            "_________________________________________________________________\n",
            "dense_8 (Dense)              (None, 10)                780       \n",
            "_________________________________________________________________\n",
            "activation_22 (Activation)   (None, 10)                0         \n",
            "=================================================================\n",
            "Total params: 623,176\n",
            "Trainable params: 622,396\n",
            "Non-trainable params: 780\n",
            "_________________________________________________________________\n"
          ],
          "name": "stdout"
        }
      ]
    },
    {
      "cell_type": "code",
      "metadata": {
        "id": "8yg7J6O783GJ"
      },
      "source": [
        "model_full_cnn = full_cnn()"
      ],
      "execution_count": 22,
      "outputs": []
    },
    {
      "cell_type": "code",
      "metadata": {
        "colab": {
          "base_uri": "https://localhost:8080/"
        },
        "id": "KSp1WdzgBhYD",
        "outputId": "c858161a-e069-4f23-abbb-a53bfbef70f2"
      },
      "source": [
        "model_full_cnn.summary()"
      ],
      "execution_count": 23,
      "outputs": [
        {
          "output_type": "stream",
          "text": [
            "Model: \"sequential_5\"\n",
            "_________________________________________________________________\n",
            "Layer (type)                 Output Shape              Param #   \n",
            "=================================================================\n",
            "conv2d_16 (Conv2D)           (None, 28, 28, 53)        477       \n",
            "_________________________________________________________________\n",
            "batch_normalization_18 (Batc (None, 28, 28, 53)        212       \n",
            "_________________________________________________________________\n",
            "activation_23 (Activation)   (None, 28, 28, 53)        0         \n",
            "_________________________________________________________________\n",
            "max_pooling2d_12 (MaxPooling (None, 14, 14, 53)        0         \n",
            "_________________________________________________________________\n",
            "dropout_18 (Dropout)         (None, 14, 14, 53)        0         \n",
            "_________________________________________________________________\n",
            "conv2d_17 (Conv2D)           (None, 14, 14, 50)        23850     \n",
            "_________________________________________________________________\n",
            "batch_normalization_19 (Batc (None, 14, 14, 50)        200       \n",
            "_________________________________________________________________\n",
            "activation_24 (Activation)   (None, 14, 14, 50)        0         \n",
            "_________________________________________________________________\n",
            "max_pooling2d_13 (MaxPooling (None, 7, 7, 50)          0         \n",
            "_________________________________________________________________\n",
            "dropout_19 (Dropout)         (None, 7, 7, 50)          0         \n",
            "_________________________________________________________________\n",
            "conv2d_18 (Conv2D)           (None, 7, 7, 108)         48708     \n",
            "_________________________________________________________________\n",
            "conv2d_19 (Conv2D)           (None, 7, 7, 47)          45684     \n",
            "_________________________________________________________________\n",
            "batch_normalization_20 (Batc (None, 7, 7, 47)          188       \n",
            "_________________________________________________________________\n",
            "activation_25 (Activation)   (None, 7, 7, 47)          0         \n",
            "_________________________________________________________________\n",
            "max_pooling2d_14 (MaxPooling (None, 3, 3, 47)          0         \n",
            "_________________________________________________________________\n",
            "dropout_20 (Dropout)         (None, 3, 3, 47)          0         \n",
            "_________________________________________________________________\n",
            "conv2d_20 (Conv2D)           (None, 3, 3, 10)          480       \n",
            "_________________________________________________________________\n",
            "average_pooling2d_2 (Average (None, 1, 1, 10)          0         \n",
            "_________________________________________________________________\n",
            "flatten_5 (Flatten)          (None, 10)                0         \n",
            "_________________________________________________________________\n",
            "activation_26 (Activation)   (None, 10)                0         \n",
            "=================================================================\n",
            "Total params: 119,799\n",
            "Trainable params: 119,499\n",
            "Non-trainable params: 300\n",
            "_________________________________________________________________\n"
          ],
          "name": "stdout"
        }
      ]
    },
    {
      "cell_type": "code",
      "metadata": {
        "id": "WJ49Y8kbBjzd"
      },
      "source": [
        "batch_size = 128\n",
        "num_classes = 10\n",
        "epochs = 12"
      ],
      "execution_count": 24,
      "outputs": []
    },
    {
      "cell_type": "code",
      "metadata": {
        "id": "T3kNLSDpDgRT"
      },
      "source": [
        "img_rows, img_cols = 28, 28\n",
        "(x_train, y_train), (x_test, y_test) = mnist.load_data()"
      ],
      "execution_count": 25,
      "outputs": []
    },
    {
      "cell_type": "code",
      "metadata": {
        "id": "NFJaySmCDuyn"
      },
      "source": [
        "x_train = x_train.reshape(x_train.shape[0], img_rows, img_cols, 1)\n",
        "x_test = x_test.reshape(x_test.shape[0], img_rows, img_cols, 1)"
      ],
      "execution_count": 26,
      "outputs": []
    },
    {
      "cell_type": "code",
      "metadata": {
        "id": "brFB-yE6Dyr9"
      },
      "source": [
        "x_train = x_train.astype('float32')\n",
        "x_test = x_test.astype('float32')\n",
        "x_train = x_train / 255.0\n",
        "x_test = x_test / 255.0"
      ],
      "execution_count": 27,
      "outputs": []
    },
    {
      "cell_type": "code",
      "metadata": {
        "id": "L6DAY_tpD1gL"
      },
      "source": [
        "y_train = keras.utils.to_categorical(y_train, num_classes)\n",
        "y_test = keras.utils.to_categorical(y_test, num_classes)"
      ],
      "execution_count": 28,
      "outputs": []
    },
    {
      "cell_type": "code",
      "metadata": {
        "id": "WB377i1mECqM"
      },
      "source": [
        "optimizer = keras.optimizers.Adam(learning_rate=0.0018628251888028735)"
      ],
      "execution_count": 29,
      "outputs": []
    },
    {
      "cell_type": "code",
      "metadata": {
        "colab": {
          "base_uri": "https://localhost:8080/"
        },
        "id": "HcoER6viD480",
        "outputId": "9f5e915b-3d95-42ea-f2c3-a165417c63f6"
      },
      "source": [
        "model.compile(loss=keras.losses.categorical_crossentropy, optimizer=optimizer, metrics=['accuracy'])\n",
        "model.fit(x_train, y_train, batch_size=batch_size, epochs=10, verbose=1, validation_data=(x_test, y_test))"
      ],
      "execution_count": 30,
      "outputs": [
        {
          "output_type": "stream",
          "text": [
            "Epoch 1/10\n",
            "469/469 [==============================] - 5s 8ms/step - loss: 0.2887 - accuracy: 0.9201 - val_loss: 1.1699 - val_accuracy: 0.6422\n",
            "Epoch 2/10\n",
            "469/469 [==============================] - 3s 7ms/step - loss: 0.0530 - accuracy: 0.9842 - val_loss: 0.0462 - val_accuracy: 0.9845\n",
            "Epoch 3/10\n",
            "469/469 [==============================] - 3s 7ms/step - loss: 0.0379 - accuracy: 0.9883 - val_loss: 0.0336 - val_accuracy: 0.9898\n",
            "Epoch 4/10\n",
            "469/469 [==============================] - 3s 7ms/step - loss: 0.0304 - accuracy: 0.9902 - val_loss: 0.0318 - val_accuracy: 0.9904\n",
            "Epoch 5/10\n",
            "469/469 [==============================] - 3s 7ms/step - loss: 0.0285 - accuracy: 0.9916 - val_loss: 0.0275 - val_accuracy: 0.9915\n",
            "Epoch 6/10\n",
            "469/469 [==============================] - 3s 7ms/step - loss: 0.0238 - accuracy: 0.9925 - val_loss: 0.0241 - val_accuracy: 0.9925\n",
            "Epoch 7/10\n",
            "469/469 [==============================] - 4s 8ms/step - loss: 0.0208 - accuracy: 0.9934 - val_loss: 0.0270 - val_accuracy: 0.9908\n",
            "Epoch 8/10\n",
            "469/469 [==============================] - 3s 7ms/step - loss: 0.0182 - accuracy: 0.9943 - val_loss: 0.0257 - val_accuracy: 0.9922\n",
            "Epoch 9/10\n",
            "469/469 [==============================] - 3s 7ms/step - loss: 0.0159 - accuracy: 0.9952 - val_loss: 0.0245 - val_accuracy: 0.9920\n",
            "Epoch 10/10\n",
            "469/469 [==============================] - 3s 7ms/step - loss: 0.0150 - accuracy: 0.9953 - val_loss: 0.0251 - val_accuracy: 0.9924\n"
          ],
          "name": "stdout"
        },
        {
          "output_type": "execute_result",
          "data": {
            "text/plain": [
              "<tensorflow.python.keras.callbacks.History at 0x7fe8e9780850>"
            ]
          },
          "metadata": {
            "tags": []
          },
          "execution_count": 30
        }
      ]
    },
    {
      "cell_type": "code",
      "metadata": {
        "colab": {
          "base_uri": "https://localhost:8080/"
        },
        "id": "O3XTGQ3nEBJc",
        "outputId": "a338b593-68a7-4663-f2c5-5f146871441c"
      },
      "source": [
        "model_full_cnn.compile(loss=keras.losses.categorical_crossentropy, optimizer=optimizer, metrics=['accuracy'])\n",
        "model_full_cnn.fit(x_train, y_train, batch_size=batch_size, epochs=10, verbose=1, validation_data=(x_test, y_test))"
      ],
      "execution_count": 31,
      "outputs": [
        {
          "output_type": "stream",
          "text": [
            "Epoch 1/10\n",
            "469/469 [==============================] - 5s 8ms/step - loss: 0.6970 - accuracy: 0.7974 - val_loss: 0.3472 - val_accuracy: 0.8888\n",
            "Epoch 2/10\n",
            "469/469 [==============================] - 4s 7ms/step - loss: 0.0749 - accuracy: 0.9777 - val_loss: 0.0706 - val_accuracy: 0.9772\n",
            "Epoch 3/10\n",
            "469/469 [==============================] - 4s 8ms/step - loss: 0.0549 - accuracy: 0.9841 - val_loss: 0.0429 - val_accuracy: 0.9863\n",
            "Epoch 4/10\n",
            "469/469 [==============================] - 4s 8ms/step - loss: 0.0459 - accuracy: 0.9861 - val_loss: 0.0309 - val_accuracy: 0.9904\n",
            "Epoch 5/10\n",
            "469/469 [==============================] - 4s 8ms/step - loss: 0.0379 - accuracy: 0.9884 - val_loss: 0.0330 - val_accuracy: 0.9892\n",
            "Epoch 6/10\n",
            "469/469 [==============================] - 4s 8ms/step - loss: 0.0319 - accuracy: 0.9904 - val_loss: 0.0264 - val_accuracy: 0.9916\n",
            "Epoch 7/10\n",
            "469/469 [==============================] - 4s 8ms/step - loss: 0.0339 - accuracy: 0.9895 - val_loss: 0.0316 - val_accuracy: 0.9891\n",
            "Epoch 8/10\n",
            "469/469 [==============================] - 4s 8ms/step - loss: 0.0327 - accuracy: 0.9896 - val_loss: 0.0268 - val_accuracy: 0.9919\n",
            "Epoch 9/10\n",
            "469/469 [==============================] - 4s 8ms/step - loss: 0.0293 - accuracy: 0.9912 - val_loss: 0.0240 - val_accuracy: 0.9912\n",
            "Epoch 10/10\n",
            "469/469 [==============================] - 4s 8ms/step - loss: 0.0283 - accuracy: 0.9909 - val_loss: 0.0358 - val_accuracy: 0.9887\n"
          ],
          "name": "stdout"
        },
        {
          "output_type": "execute_result",
          "data": {
            "text/plain": [
              "<tensorflow.python.keras.callbacks.History at 0x7fe8e94dd510>"
            ]
          },
          "metadata": {
            "tags": []
          },
          "execution_count": 31
        }
      ]
    },
    {
      "cell_type": "code",
      "metadata": {
        "id": "CwYcPOVZE4aK"
      },
      "source": [
        ""
      ],
      "execution_count": 31,
      "outputs": []
    }
  ]
}